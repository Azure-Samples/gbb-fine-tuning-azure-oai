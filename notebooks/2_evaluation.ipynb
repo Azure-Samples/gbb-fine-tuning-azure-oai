{
 "cells": [
  {
   "cell_type": "markdown",
   "metadata": {},
   "source": [
    "# Inference a fine-tuned model with function calling"
   ]
  },
  {
   "cell_type": "markdown",
   "metadata": {},
   "source": [
    "In this notebook, we'll demonstrate how to inference our fine-tuned model with function calling. We will demonstrate the same accuracy at a fraction of tokens as compared to base model. \n",
    "\n",
    "After your fine-tuned model is deployed, you can use it like any other deployed model via the chat completion API."
   ]
  },
  {
   "cell_type": "markdown",
   "metadata": {},
   "source": [
    "### 1. Evaluating using Prompt Flow"
   ]
  },
  {
   "cell_type": "markdown",
   "metadata": {},
   "source": [
    "With prompt flow, you can quickly trigger a batch-run to test your prompt with a larger dataset, and evaluate the quality of the answers."
   ]
  },
  {
   "cell_type": "markdown",
   "metadata": {},
   "source": [
    "#### a. Base Runs in Azure ML"
   ]
  },
  {
   "cell_type": "code",
   "execution_count": 10,
   "metadata": {},
   "outputs": [],
   "source": [
    "SUBSCRIPTION=\"06d043e2-5a2e-46bf-bf48-fffee525f377\"\n",
    "GROUP=\"demobmulitple\"\n",
    "WORKSPACE=\"aml-demobmultiple\""
   ]
  },
  {
   "cell_type": "markdown",
   "metadata": {},
   "source": [
    "GPT-4o Base:"
   ]
  },
  {
   "cell_type": "code",
   "execution_count": 67,
   "metadata": {},
   "outputs": [
    {
     "name": "stdout",
     "output_type": "stream",
     "text": [
      "{"
     ]
    },
    {
     "name": "stderr",
     "output_type": "stream",
     "text": [
      "\n",
      "\u001b[32mUploading flow (0.01 MBs):   0%|          | 0/9291 [00:00<?, ?it/s]\n",
      "\u001b[32mUploading flow (0.01 MBs):   1%|          | 68/9291 [00:00<00:31, 294.64it/s]\n",
      "\u001b[32mUploading flow (0.01 MBs):   4%|3         | 351/9291 [00:00<00:20, 429.51it/s]\n",
      "\u001b[32mUploading flow (0.01 MBs): 100%|##########| 9291/9291 [00:00<00:00, 11053.40it/s]\n",
      "\u001b[39m\n",
      "\n",
      "[2024-09-05 09:45:18 -0300][promptflow][WARNING] - You're using compute session, if it's first time you're using it, it may take a while to build session and you may see 'NotStarted' status for a while. \n"
     ]
    },
    {
     "name": "stdout",
     "output_type": "stream",
     "text": [
      "\n",
      "    \"name\": \"flow_variant_0_20240905_094510_009692\",\n",
      "    \"created_on\": \"2024-09-05T12:45:22.003918+00:00\",\n",
      "    \"status\": \"Preparing\",\n",
      "    \"display_name\": \"flow_variant_0_20240905_094510_009692\",\n",
      "    \"description\": null,\n",
      "    \"tags\": {},\n",
      "    \"properties\": {\n",
      "        \"azureml.promptflow.inputs_mapping\": \"{\\\"question\\\":\\\"${data.messages}\\\",\\\"deployment_name\\\":\\\"gpt-4o\\\",\\\"tool_description\\\":\\\"full\\\"}\",\n",
      "        \"azureml.promptflow.runtime_name\": \"automatic\",\n",
      "        \"azureml.promptflow.disable_trace\": \"false\",\n",
      "        \"azureml.promptflow.session_id\": \"a3c92a3c173aa3da60b4e2e52e0651bf80d944541d2a9608\",\n",
      "        \"azureml.promptflow.definition_file_name\": \"flow.dag.yaml\",\n",
      "        \"azureml.promptflow.flow_lineage_id\": \"1812025a7957087d8d6e180492528b82f1d2e18156d1992f1d0ca2092f0a3cf6\",\n",
      "        \"azureml.promptflow.flow_definition_datastore_name\": \"workspaceblobstore\",\n",
      "        \"azureml.promptflow.flow_definition_blob_path\": \"LocalUpload/86a2dc19f79a561db1664b3085e87103/flow/flow.dag.yaml\",\n",
      "        \"_azureml.evaluation_run\": \"promptflow.BatchRun\",\n",
      "        \"azureml.promptflow.snapshot_id\": \"a663b800-bf41-4661-9431-2b1ebdcaa277\",\n",
      "        \"azureml.promptflow.runtime_version\": \"20240829.v3\"\n",
      "    },\n",
      "    \"creation_context\": {\n",
      "        \"userObjectId\": \"8804e7e5-875e-4baa-bae9-306b736f45e3\",\n",
      "        \"userPuId\": \"10032003290C6E29\",\n",
      "        \"userIdp\": \"https://sts.windows.net/72f988bf-86f1-41af-91ab-2d7cd011db47/\",\n",
      "        \"userAltSecId\": \"5::10032003192D8038\",\n",
      "        \"userIss\": \"https://sts.windows.net/16b3c013-d300-468d-ac64-7eda0820b6d3/\",\n",
      "        \"userTenantId\": \"16b3c013-d300-468d-ac64-7eda0820b6d3\",\n",
      "        \"userName\": \"Pablo Castano\",\n",
      "        \"upn\": null\n",
      "    },\n",
      "    \"start_time\": null,\n",
      "    \"end_time\": null,\n",
      "    \"duration\": null,\n",
      "    \"portal_url\": \"https://ml.azure.com/prompts/trace/run/flow_variant_0_20240905_094510_009692/details?wsid=/subscriptions/06d043e2-5a2e-46bf-bf48-fffee525f377/resourcegroups/demobmulitple/providers/Microsoft.MachineLearningServices/workspaces/aml-demobmultiple\",\n",
      "    \"data\": \"azureml://datastores/workspaceblobstore/paths/LocalUpload/227d7cc8e412b568179221ad921677bd/stock-test.jsonl\",\n",
      "    \"output\": null\n",
      "}\n"
     ]
    }
   ],
   "source": [
    "!pfazure run create -f ../src/flow/run_base.yml --subscription $SUBSCRIPTION -g $GROUP -w $WORKSPACE "
   ]
  },
  {
   "cell_type": "code",
   "execution_count": 74,
   "metadata": {},
   "outputs": [],
   "source": [
    "base_run_name = \"flow_variant_0_20240905_094510_009692\""
   ]
  },
  {
   "cell_type": "markdown",
   "metadata": {},
   "source": [
    "GPT-4o Fine Tuned: "
   ]
  },
  {
   "cell_type": "code",
   "execution_count": 13,
   "metadata": {},
   "outputs": [
    {
     "name": "stdout",
     "output_type": "stream",
     "text": [
      "{\n",
      "    \"name\": \"flow_variant_0_20240905_011834_126765\",\n",
      "    \"created_on\": \"2024-09-05T04:18:42.382264+00:00\",\n",
      "    \"status\": \"Preparing\",\n",
      "    \"display_name\": \"flow_variant_0_20240905_011834_126765\",\n",
      "    \"description\": null,\n",
      "    \"tags\": {},\n",
      "    \"properties\": {\n",
      "        \"azureml.promptflow.inputs_mapping\": \"{\\\"question\\\":\\\"${data.messages}\\\",\\\"deployment_name\\\":\\\"gpt-4o-2024-08-06-ft-function-calling\\\",\\\"tool_description\\\":\\\"short\\\"}\",\n",
      "        \"azureml.promptflow.runtime_name\": \"automatic\",\n",
      "        \"azureml.promptflow.disable_trace\": \"false\",\n",
      "        \"azureml.promptflow.session_id\": \"a3c92a3c173aa3da60b4e2e52e0651bf80d944541d2a9608\",\n",
      "        \"azureml.promptflow.definition_file_name\": \"flow.dag.yaml\",\n",
      "        \"azureml.promptflow.flow_lineage_id\": \"1812025a7957087d8d6e180492528b82f1d2e18156d1992f1d0ca2092f0a3cf6\",\n",
      "        \"azureml.promptflow.flow_definition_datastore_name\": \"workspaceblobstore\",\n",
      "        \"azureml.promptflow.flow_definition_blob_path\": \"LocalUpload/86553acccd218b87750220f571be248d/flow/flow.dag.yaml\",\n",
      "        \"_azureml.evaluation_run\": \"promptflow.BatchRun\",\n",
      "        \"azureml.promptflow.snapshot_id\": \"f989d1cf-9acf-4f97-ad17-18f0b8712e9c\",\n",
      "        \"azureml.promptflow.runtime_version\": \"20240829.v3\"\n",
      "    },\n",
      "    \"creation_context\": {\n",
      "        \"userObjectId\": \"8804e7e5-875e-4baa-bae9-306b736f45e3\",\n",
      "        \"userPuId\": \"10032003290C6E29\",\n",
      "        \"userIdp\": \"https://sts.windows.net/72f988bf-86f1-41af-91ab-2d7cd011db47/\",\n",
      "        \"userAltSecId\": \"5::10032003192D8038\",\n",
      "        \"userIss\": \"https://sts.windows.net/16b3c013-d300-468d-ac64-7eda0820b6d3/\",\n",
      "        \"userTenantId\": \"16b3c013-d300-468d-ac64-7eda0820b6d3\",\n",
      "        \"userName\": \"Pablo Castano\",\n",
      "        \"upn\": null\n",
      "    },\n",
      "    \"start_time\": null,\n",
      "    \"end_time\": null,\n",
      "    \"duration\": null,\n",
      "    \"portal_url\": \"https://ml.azure.com/prompts/trace/run/flow_variant_0_20240905_011834_126765/details?wsid=/subscriptions/06d043e2-5a2e-46bf-bf48-fffee525f377/resourcegroups/demobmulitple/providers/Microsoft.MachineLearningServices/workspaces/aml-demobmultiple\",\n",
      "    \"data\": \"azureml://datastores/workspaceblobstore/paths/LocalUpload/227d7cc8e412b568179221ad921677bd/stock-test.jsonl\",\n",
      "    \"output\": null\n",
      "}\n"
     ]
    },
    {
     "name": "stderr",
     "output_type": "stream",
     "text": [
      "[2024-09-05 01:18:41 -0300][promptflow][WARNING] - You're using compute session, if it's first time you're using it, it may take a while to build session and you may see 'NotStarted' status for a while. \n"
     ]
    }
   ],
   "source": [
    "!pfazure run create -f ../src/flow/run_ft.yml --subscription $SUBSCRIPTION -g $GROUP -w $WORKSPACE "
   ]
  },
  {
   "cell_type": "code",
   "execution_count": 15,
   "metadata": {},
   "outputs": [],
   "source": [
    "ft_run_name = \"flow_variant_0_20240905_011834_126765\""
   ]
  },
  {
   "cell_type": "markdown",
   "metadata": {},
   "source": [
    "#### b. Evaluate Runs in Azure ML"
   ]
  },
  {
   "cell_type": "markdown",
   "metadata": {},
   "source": [
    "GPT-4o Base:"
   ]
  },
  {
   "cell_type": "code",
   "execution_count": 75,
   "metadata": {},
   "outputs": [
    {
     "name": "stdout",
     "output_type": "stream",
     "text": [
      "{\n",
      "    \"name\": \"evaluation_variant_0_20240905_095001_146303\",\n",
      "    \"created_on\": \"2024-09-05T12:50:12.605167+00:00\",\n",
      "    \"status\": \"Preparing\",\n",
      "    \"display_name\": \"evaluation_variant_0_20240905_095001_146303\",\n",
      "    \"description\": null,\n",
      "    \"tags\": {},\n",
      "    \"properties\": {\n",
      "        \"azureml.promptflow.inputs_mapping\": \"{\\\"groundtruth\\\":\\\"${data.messages}\\\",\\\"prediction\\\":\\\"${run.outputs.function_calls}\\\"}\",\n",
      "        \"azureml.promptflow.runtime_name\": \"automatic\",\n",
      "        \"azureml.promptflow.disable_trace\": \"false\",\n",
      "        \"azureml.promptflow.variant_run_id\": \"flow_variant_0_20240905_094510_009692\",\n",
      "        \"azureml.promptflow.session_id\": \"4fa137452b7f7d63b7e0339e561ee746257a1958fd1bb9ac\",\n",
      "        \"azureml.promptflow.definition_file_name\": \"flow.dag.yaml\",\n",
      "        \"azureml.promptflow.flow_lineage_id\": \"5fa1e479c5731f6599c4f75a2f5408c1c946dfb1f0656c598599122d380dd762\",\n",
      "        \"azureml.promptflow.flow_definition_datastore_name\": \"workspaceblobstore\",\n",
      "        \"azureml.promptflow.flow_definition_blob_path\": \"LocalUpload/18c2867de1d2b52b140844ba21e7bbe7/evaluation/flow.dag.yaml\",\n",
      "        \"_azureml.evaluation_run\": \"promptflow.BatchRun\",\n",
      "        \"azureml.promptflow.snapshot_id\": \"50ccf61e-49ad-4553-a439-f1bc8e674c4a\",\n",
      "        \"azureml.promptflow.runtime_version\": \"20240829.v3\"\n",
      "    },\n",
      "    \"creation_context\": {\n",
      "        \"userObjectId\": \"8804e7e5-875e-4baa-bae9-306b736f45e3\",\n",
      "        \"userPuId\": \"10032003290C6E29\",\n",
      "        \"userIdp\": \"https://sts.windows.net/72f988bf-86f1-41af-91ab-2d7cd011db47/\",\n",
      "        \"userAltSecId\": \"5::10032003192D8038\",\n",
      "        \"userIss\": \"https://sts.windows.net/16b3c013-d300-468d-ac64-7eda0820b6d3/\",\n",
      "        \"userTenantId\": \"16b3c013-d300-468d-ac64-7eda0820b6d3\",\n",
      "        \"userName\": \"Pablo Castano\",\n",
      "        \"upn\": null\n",
      "    },\n",
      "    \"start_time\": null,\n",
      "    \"end_time\": null,\n",
      "    \"duration\": null,\n",
      "    \"portal_url\": \"https://ml.azure.com/prompts/trace/run/evaluation_variant_0_20240905_095001_146303/details?wsid=/subscriptions/06d043e2-5a2e-46bf-bf48-fffee525f377/resourcegroups/demobmulitple/providers/Microsoft.MachineLearningServices/workspaces/aml-demobmultiple\",\n",
      "    \"data\": \"azureml://datastores/workspaceblobstore/paths/LocalUpload/227d7cc8e412b568179221ad921677bd/stock-test.jsonl\",\n",
      "    \"output\": null,\n",
      "    \"run\": \"flow_variant_0_20240905_094510_009692\"\n",
      "}\n"
     ]
    },
    {
     "name": "stderr",
     "output_type": "stream",
     "text": [
      "[2024-09-05 09:50:09 -0300][promptflow][WARNING] - You're using compute session, if it's first time you're using it, it may take a while to build session and you may see 'NotStarted' status for a while. \n"
     ]
    }
   ],
   "source": [
    "!pfazure run create -f ../src/flow/run_eval.yml --run $base_run_name --subscription $SUBSCRIPTION -g $GROUP -w $WORKSPACE"
   ]
  },
  {
   "cell_type": "code",
   "execution_count": 76,
   "metadata": {},
   "outputs": [],
   "source": [
    "base_eval_run_name = \"evaluation_variant_0_20240905_095001_146303\""
   ]
  },
  {
   "cell_type": "markdown",
   "metadata": {},
   "source": [
    "GPT-4o Fine Tuned"
   ]
  },
  {
   "cell_type": "code",
   "execution_count": 23,
   "metadata": {},
   "outputs": [
    {
     "name": "stdout",
     "output_type": "stream",
     "text": [
      "{"
     ]
    },
    {
     "name": "stderr",
     "output_type": "stream",
     "text": [
      "[2024-09-05 01:26:06 -0300][promptflow][WARNING] - You're using compute session, if it's first time you're using it, it may take a while to build session and you may see 'NotStarted' status for a while. \n"
     ]
    },
    {
     "name": "stdout",
     "output_type": "stream",
     "text": [
      "\n",
      "    \"name\": \"evaluation_variant_0_20240905_012559_724014\",\n",
      "    \"created_on\": \"2024-09-05T04:26:07.790886+00:00\",\n",
      "    \"status\": \"Preparing\",\n",
      "    \"display_name\": \"evaluation_variant_0_20240905_012559_724014\",\n",
      "    \"description\": null,\n",
      "    \"tags\": {},\n",
      "    \"properties\": {\n",
      "        \"azureml.promptflow.inputs_mapping\": \"{\\\"groundtruth\\\":\\\"${data.messages}\\\",\\\"prediction\\\":\\\"${run.outputs.function_calls}\\\"}\",\n",
      "        \"azureml.promptflow.runtime_name\": \"automatic\",\n",
      "        \"azureml.promptflow.disable_trace\": \"false\",\n",
      "        \"azureml.promptflow.variant_run_id\": \"flow_variant_0_20240905_011834_126765\",\n",
      "        \"azureml.promptflow.session_id\": \"4fa137452b7f7d63b7e0339e561ee746257a1958fd1bb9ac\",\n",
      "        \"azureml.promptflow.definition_file_name\": \"flow.dag.yaml\",\n",
      "        \"azureml.promptflow.flow_lineage_id\": \"5fa1e479c5731f6599c4f75a2f5408c1c946dfb1f0656c598599122d380dd762\",\n",
      "        \"azureml.promptflow.flow_definition_datastore_name\": \"workspaceblobstore\",\n",
      "        \"azureml.promptflow.flow_definition_blob_path\": \"LocalUpload/18c2867de1d2b52b140844ba21e7bbe7/evaluation/flow.dag.yaml\",\n",
      "        \"_azureml.evaluation_run\": \"promptflow.BatchRun\",\n",
      "        \"azureml.promptflow.snapshot_id\": \"cca21c92-248f-4718-834d-089c7d3810f4\",\n",
      "        \"azureml.promptflow.runtime_version\": \"20240829.v3\"\n",
      "    },\n",
      "    \"creation_context\": {\n",
      "        \"userObjectId\": \"8804e7e5-875e-4baa-bae9-306b736f45e3\",\n",
      "        \"userPuId\": \"10032003290C6E29\",\n",
      "        \"userIdp\": \"https://sts.windows.net/72f988bf-86f1-41af-91ab-2d7cd011db47/\",\n",
      "        \"userAltSecId\": \"5::10032003192D8038\",\n",
      "        \"userIss\": \"https://sts.windows.net/16b3c013-d300-468d-ac64-7eda0820b6d3/\",\n",
      "        \"userTenantId\": \"16b3c013-d300-468d-ac64-7eda0820b6d3\",\n",
      "        \"userName\": \"Pablo Castano\",\n",
      "        \"upn\": null\n",
      "    },\n",
      "    \"start_time\": null,\n",
      "    \"end_time\": null,\n",
      "    \"duration\": null,\n",
      "    \"portal_url\": \"https://ml.azure.com/prompts/trace/run/evaluation_variant_0_20240905_012559_724014/details?wsid=/subscriptions/06d043e2-5a2e-46bf-bf48-fffee525f377/resourcegroups/demobmulitple/providers/Microsoft.MachineLearningServices/workspaces/aml-demobmultiple\",\n",
      "    \"data\": \"azureml://datastores/workspaceblobstore/paths/LocalUpload/227d7cc8e412b568179221ad921677bd/stock-test.jsonl\",\n",
      "    \"output\": null,\n",
      "    \"run\": \"flow_variant_0_20240905_011834_126765\"\n",
      "}\n"
     ]
    }
   ],
   "source": [
    "!pfazure run create -f ../src/flow/run_eval.yml --run $ft_run_name --subscription $SUBSCRIPTION -g $GROUP -w $WORKSPACE"
   ]
  },
  {
   "cell_type": "code",
   "execution_count": 26,
   "metadata": {},
   "outputs": [],
   "source": [
    "fine_tuned_eval_run_name = \"evaluation_variant_0_20240905_012559_724014\""
   ]
  },
  {
   "cell_type": "markdown",
   "metadata": {},
   "source": [
    "### 2. Summary of Results"
   ]
  },
  {
   "cell_type": "markdown",
   "metadata": {},
   "source": [
    "#####  a.Retrieve Accuracies"
   ]
  },
  {
   "cell_type": "code",
   "execution_count": 77,
   "metadata": {},
   "outputs": [],
   "source": [
    "!pfazure run show-metrics --name $base_eval_run_name  --subscription $SUBSCRIPTION -g $GROUP -w $WORKSPACE > base_eval_result.json "
   ]
  },
  {
   "cell_type": "code",
   "execution_count": 32,
   "metadata": {},
   "outputs": [],
   "source": [
    "!pfazure run show-metrics --name $fine_tuned_eval_run_name  --subscription $SUBSCRIPTION -g $GROUP -w $WORKSPACE > ft_eval_result.json "
   ]
  },
  {
   "cell_type": "markdown",
   "metadata": {},
   "source": [
    "#### b. Retrieve Consumed Tokens"
   ]
  },
  {
   "cell_type": "code",
   "execution_count": 78,
   "metadata": {},
   "outputs": [],
   "source": [
    "!pfazure run show --name $base_run_name --subscription $SUBSCRIPTION -g $GROUP -w $WORKSPACE > base_run_details.json"
   ]
  },
  {
   "cell_type": "code",
   "execution_count": 45,
   "metadata": {},
   "outputs": [],
   "source": [
    "!pfazure run show --name $ft_run_name --subscription $SUBSCRIPTION -g $GROUP -w $WORKSPACE > ft_run_details.json"
   ]
  },
  {
   "cell_type": "markdown",
   "metadata": {},
   "source": [
    "#### c. Make Table"
   ]
  },
  {
   "cell_type": "code",
   "execution_count": 79,
   "metadata": {},
   "outputs": [
    {
     "name": "stderr",
     "output_type": "stream",
     "text": [
      "C:\\Users\\pablocastao\\AppData\\Local\\Temp\\ipykernel_23412\\1713111769.py:1: DeprecationWarning: Importing display from IPython.core.display is deprecated since IPython 7.14, please import from IPython display\n",
      "  from IPython.core.display import display, HTML\n"
     ]
    },
    {
     "data": {
      "text/html": [
       "  \n",
       "<table>  \n",
       "    <tr>  \n",
       "        <th></th>  \n",
       "        <th>Base Model + Verbose</th>  \n",
       "        <th>FT Model</th>  \n",
       "    </tr>  \n",
       "    <tr>  \n",
       "        <td><strong>Accuracy (%)</strong></td>  \n",
       "        <td>90.0</td>  \n",
       "        <td>90.0</td>  \n",
       "    </tr>  \n",
       "    <tr>  \n",
       "        <td><strong>Number of tokens</strong></td>  \n",
       "        <td>30053</td> \n",
       "        <td>25164</td>  \n",
       "    </tr>  \n",
       "</table>  \n"
      ],
      "text/plain": [
       "<IPython.core.display.HTML object>"
      ]
     },
     "metadata": {},
     "output_type": "display_data"
    }
   ],
   "source": [
    "from IPython.core.display import display, HTML  \n",
    "import json\n",
    "\n",
    "accuracy_base=json.load(open(\"base_eval_result.json\"))[\"results_num\"]\n",
    "accuracy_ft=json.load(open(\"ft_eval_result.json\"))[\"results_num\"]\n",
    "tokens_base=json.load(open(\"base_run_details.json\"))[\"properties\"][\"azureml.promptflow.total_tokens\"]\n",
    "tokens_ft=json.load(open(\"ft_run_details.json\"))[\"properties\"][\"azureml.promptflow.total_tokens\"]\n",
    "\n",
    "html_table = f\"\"\"  \n",
    "<table>  \n",
    "    <tr>  \n",
    "        <th></th>  \n",
    "        <th>Base Model + Verbose</th>  \n",
    "        <th>FT Model + Short</th>  \n",
    "    </tr>  \n",
    "    <tr>  \n",
    "        <td><strong>Accuracy (%)</strong></td>  \n",
    "        <td>{accuracy_base*100}</td>  \n",
    "        <td>{accuracy_ft*100}</td>  \n",
    "    </tr>  \n",
    "    <tr>  \n",
    "        <td><strong>Number of tokens</strong></td>  \n",
    "        <td>{tokens_base}</td> \n",
    "        <td>{tokens_ft}</td>  \n",
    "    </tr>  \n",
    "</table>  \n",
    "\"\"\"  \n",
    "display(HTML(html_table))  "
   ]
  }
 ],
 "metadata": {
  "kernelspec": {
   "display_name": ".venv",
   "language": "python",
   "name": "python3"
  },
  "language_info": {
   "codemirror_mode": {
    "name": "ipython",
    "version": 3
   },
   "file_extension": ".py",
   "mimetype": "text/x-python",
   "name": "python",
   "nbconvert_exporter": "python",
   "pygments_lexer": "ipython3",
   "version": "3.9.13"
  }
 },
 "nbformat": 4,
 "nbformat_minor": 2
}
